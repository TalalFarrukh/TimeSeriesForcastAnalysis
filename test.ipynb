{
 "cells": [
  {
   "attachments": {},
   "cell_type": "markdown",
   "metadata": {},
   "source": [
    "* Import all the relevant libraries"
   ]
  },
  {
   "cell_type": "code",
   "execution_count": 1,
   "metadata": {},
   "outputs": [
    {
     "name": "stderr",
     "output_type": "stream",
     "text": [
      "c:\\Users\\hp\\AppData\\Local\\Programs\\Python\\Python310\\lib\\site-packages\\geopandas\\_compat.py:111: UserWarning: The Shapely GEOS version (3.10.1-CAPI-1.16.0) is incompatible with the GEOS version PyGEOS was compiled with (3.10.3-CAPI-1.16.1). Conversions between both will be slow.\n",
      "  warnings.warn(\n"
     ]
    }
   ],
   "source": [
    "import geopandas as gpd\n",
    "import pandas as pd\n",
    "from shapely.geometry import Point, Polygon, box\n",
    "import numpy as np\n",
    "import matplotlib.pyplot as plt\n",
    "import joblib"
   ]
  },
  {
   "cell_type": "code",
   "execution_count": 3,
   "metadata": {},
   "outputs": [],
   "source": [
    "def createDataSets(data):\n",
    "    gdf = gpd.GeoDataFrame(data, geometry=gpd.points_from_xy(data.Longitude, data.Latitude))    \n",
    "    gdf.set_crs('epsg:4326', inplace=True)\n",
    "\n",
    "    gdf['Latitude'] = pd.to_numeric(gdf['Latitude'], errors='coerce')\n",
    "    gdf['Longitude'] = pd.to_numeric(gdf['Longitude'], errors='coerce')\n",
    "\n",
    "    gdf['mean_lat_long'] = gdf[['Latitude', 'Longitude']].mean(axis=1)\n",
    "    \n",
    "    gdf = gdf.dropna(subset=['Longitude', 'Latitude'])\n",
    "\n",
    "    gdf = gdf.query('Latitude <= 10 & Longitude <= 10')\n",
    "\n",
    "    min_x, min_y, max_x, max_y = gdf.total_bounds\n",
    "\n",
    "    length = 0.25\n",
    "    wide = 0.25\n",
    "\n",
    "    cols = list(np.arange(min_x, max_x + wide, wide))\n",
    "    rows = list(np.arange(min_y, max_y + length, length))\n",
    "\n",
    "    polygons = []\n",
    "    for x in cols[:-1]:\n",
    "        for y in rows[:-1]:\n",
    "            polygons.append(Polygon([(x,y), (x+wide, y), (x+wide, y+length), (x, y+length)]))\n",
    "\n",
    "    grid = gpd.GeoDataFrame({'geometry':polygons}).set_crs('epsg:4326', inplace=True)\n",
    "    \n",
    "    grid['ID'] = range(1, grid.shape[0]+1)\n",
    "    grid = grid[['ID'] + [col for col in grid.columns if col != 'ID']]\n",
    "\n",
    "    gdf = gpd.overlay(grid, gdf, how='intersection', keep_geom_type=False)\n",
    "    gdf = gdf.rename(columns={'ID': 'Bin_ID'})\n",
    "    \n",
    "    merged = gpd.sjoin(grid, gdf, how=\"right\", predicate='intersects')\n",
    "    aggregated_values = merged.groupby('ID')['mean_lat_long'].mean().reset_index(name='aggregated_values')\n",
    "    merged = merged.groupby('ID').size().reset_index(name='count')\n",
    "\n",
    "    grid = grid.merge(merged, on='ID')\n",
    "    grid = grid.merge(aggregated_values, on='ID')\n",
    "\n",
    "    return gdf, grid"
   ]
  },
  {
   "cell_type": "code",
   "execution_count": 4,
   "metadata": {},
   "outputs": [],
   "source": [
    "def plotData(gdf, grid):\n",
    "    gdf.plot(ax=grid.plot(linewidth=1, edgecolor='black',alpha=0.5), marker='o', markersize=5, color='red')\n",
    "    plt.title(\"My Data and Grid\")\n",
    "    plt.xlabel(\"Longitude\")\n",
    "    plt.ylabel(\"Latitude\")"
   ]
  },
  {
   "cell_type": "code",
   "execution_count": 5,
   "metadata": {},
   "outputs": [
    {
     "data": {
      "image/png": "[encoded data removed]",
      "text/plain": [
       "<Figure size 432x288 with 1 Axes>"
      ]
     },
     "metadata": {
      "needs_background": "light"
     },
     "output_type": "display_data"
    }
   ],
   "source": [
    "data = gpd.read_file('Book1.csv')\n",
    "data['Date'] = pd.to_datetime(data['Date'])\n",
    "\n",
    "data.replace('',np.nan,inplace=True)\n",
    "data = data.dropna(subset=['Latitude', 'Longitude'])\n",
    "\n",
    "gdf, grid = createDataSets(data)\n",
    "\n",
    "plotData(gdf, grid)"
   ]
  },
  {
   "attachments": {},
   "cell_type": "markdown",
   "metadata": {},
   "source": [
    "## ML Part"
   ]
  },
  {
   "cell_type": "code",
   "execution_count": 6,
   "metadata": {},
   "outputs": [],
   "source": [
    "from sklearn.model_selection import train_test_split, RandomizedSearchCV\n",
    "from sklearn.preprocessing import MinMaxScaler\n",
    "from keras.models import Sequential\n",
    "from keras.layers import LSTM, Dense\n",
    "from sklearn.metrics import mean_squared_error, mean_absolute_error, r2_score\n",
    "from keras.wrappers.scikit_learn import KerasRegressor"
   ]
  },
  {
   "cell_type": "code",
   "execution_count": 7,
   "metadata": {},
   "outputs": [],
   "source": [
    "test = gdf.copy()\n",
    "\n",
    "test['month'] = test['Date'].dt.month\n",
    "test['day'] = test['Date'].dt.day\n",
    "test['dayofweek'] = test['Date'].dt.dayofweek\n",
    "\n",
    "X = test[['month', 'day', 'dayofweek']]\n",
    "y = test[['Latitude', 'Longitude']]\n",
    "\n",
    "X_augmented = X.copy()\n",
    "y_augmented = y.copy()\n",
    "\n",
    "X_augmented['month'] = X_augmented['month'] + np.random.normal(0, 0.12, len(X_augmented))\n",
    "X_augmented['day'] = X_augmented['day'] + np.random.normal(0, 0.12, len(X_augmented))\n",
    "X_augmented['dayofweek'] = X_augmented['dayofweek'] + np.random.normal(0, 0.12, len(X_augmented))\n",
    "\n",
    "y_augmented['Latitude'] = y_augmented['Latitude'] + np.random.normal(0, 0.12, len(y_augmented))\n",
    "y_augmented['Longitude'] = y_augmented['Longitude'] + np.random.normal(0, 0.12, len(y_augmented))\n",
    "\n",
    "X_augmented = pd.concat([X, X_augmented], axis=0)\n",
    "y_augmented = pd.concat([y, y_augmented], axis=0)\n",
    "\n",
    "X_train, X_test, y_train, y_test = train_test_split(X_augmented, y_augmented, test_size=0.05, random_state=12)\n",
    "\n",
    "scaler_x = MinMaxScaler()\n",
    "scaler_y = MinMaxScaler()\n",
    "X_train = scaler_x.fit_transform(X_train)\n",
    "X_test = scaler_x.transform(X_test)\n",
    "y_train = scaler_y.fit_transform(y_train)\n",
    "y_test = scaler_y.transform(y_test)\n",
    "\n",
    "X_train = X_train.reshape((X_train.shape[0], 1, X_train.shape[1]))\n",
    "X_test = X_test.reshape((X_test.shape[0], 1, X_test.shape[1]))"
   ]
  },
  {
   "cell_type": "code",
   "execution_count": 10,
   "metadata": {},
   "outputs": [],
   "source": [
    "def create_model(lstm1_neurons=53, lstm2_neurons=95, lstm3_neurons=95, optimizer='rmsprop'):\n",
    "    model = Sequential()\n",
    "    model.add(LSTM(lstm1_neurons, input_shape=(X_train.shape[1], X_train.shape[2]), return_sequences=True))\n",
    "    model.add(LSTM(lstm2_neurons, return_sequences=True))\n",
    "    model.add(LSTM(lstm3_neurons))\n",
    "    model.add(Dense(2))\n",
    "    model.compile(loss='mse', optimizer=optimizer)\n",
    "    return model"
   ]
  },
  {
   "attachments": {},
   "cell_type": "markdown",
   "metadata": {},
   "source": [
    "#### Load the model(s)"
   ]
  },
  {
   "cell_type": "code",
   "execution_count": 12,
   "metadata": {},
   "outputs": [
    {
     "name": "stdout",
     "output_type": "stream",
     "text": [
      "Keras model archive loading:\n",
      "File Name                                             Modified             Size\n",
      "config.json                                    2023-01-23 00:33:12         3458\n",
      "metadata.json                                  2023-01-23 00:33:12           64\n",
      "variables.h5                                   2023-01-23 00:33:12      1161560\n",
      "Keras weights file (<HDF5 file \"variables.h5\" (mode r)>) loading:\n",
      "...layers\\dense\n",
      "......vars\n",
      ".........0\n",
      ".........1\n",
      "...layers\\lstm\n",
      "......vars\n",
      "...layers\\lstm\\cell\n",
      "......vars\n",
      ".........0\n",
      ".........1\n",
      ".........2\n",
      "...layers\\lstm_1\n",
      "......vars\n",
      "...layers\\lstm_1\\cell\n",
      "......vars\n",
      ".........0\n",
      ".........1\n",
      ".........2\n",
      "...layers\\lstm_2\n",
      "......vars\n",
      "...layers\\lstm_2\\cell\n",
      "......vars\n",
      ".........0\n",
      ".........1\n",
      ".........2\n",
      "...metrics\\mean\n",
      "......vars\n",
      ".........0\n",
      ".........1\n",
      "...optimizer\n",
      "......vars\n",
      ".........0\n",
      ".........1\n",
      ".........10\n",
      ".........11\n",
      ".........2\n",
      ".........3\n",
      ".........4\n",
      ".........5\n",
      ".........6\n",
      ".........7\n",
      ".........8\n",
      ".........9\n",
      "...vars\n"
     ]
    }
   ],
   "source": [
    "random_search = joblib.load('models/model.pkl')"
   ]
  },
  {
   "cell_type": "code",
   "execution_count": 13,
   "metadata": {},
   "outputs": [
    {
     "name": "stdout",
     "output_type": "stream",
     "text": [
      "16/16 - 4s - 4s/epoch - 245ms/step\n",
      "Mean Squared Error:  0.01032531289125976\n",
      "Mean Absolute Error:  0.08152988114612719\n",
      "Root Mean Squared Error:  0.10161354679007992\n",
      "R-Squared:  -0.06251793140349893\n"
     ]
    }
   ],
   "source": [
    "y_pred = random_search.predict(X_test)\n",
    "\n",
    "mse = mean_squared_error(y_test, y_pred)\n",
    "mae = mean_absolute_error(y_test, y_pred)\n",
    "rmse = mean_squared_error(y_test, y_pred)**0.5\n",
    "r2 = r2_score(y_test, y_pred)\n",
    "\n",
    "print(\"Mean Squared Error: \", mse)\n",
    "print(\"Mean Absolute Error: \", mae)\n",
    "print(\"Root Mean Squared Error: \", rmse)\n",
    "print(\"R-Squared: \", r2)"
   ]
  },
  {
   "cell_type": "code",
   "execution_count": 14,
   "metadata": {},
   "outputs": [
    {
     "data": {
      "image/png": "[encoded data removed]",
      "text/plain": [
       "<Figure size 432x288 with 1 Axes>"
      ]
     },
     "metadata": {
      "needs_background": "light"
     },
     "output_type": "display_data"
    },
    {
     "data": {
      "image/png": "[encoded data removed]",
      "text/plain": [
       "<Figure size 432x288 with 1 Axes>"
      ]
     },
     "metadata": {
      "needs_background": "light"
     },
     "output_type": "display_data"
    }
   ],
   "source": [
    "predicted_latitude = y_pred[:,0]\n",
    "actual_latitude = y_test[:,0]\n",
    "predicted_longitude = y_pred[:,1]\n",
    "actual_longitude = y_test[:,1]\n",
    "\n",
    "#Create a scatter plot for Latitude\n",
    "plt.scatter(actual_latitude, predicted_latitude)\n",
    "plt.xlabel('Actual Latitude')\n",
    "plt.ylabel('Predicted Latitude')\n",
    "plt.show()\n",
    "\n",
    "#Create a scatter plot for Longitude\n",
    "plt.scatter(actual_longitude, predicted_longitude)\n",
    "plt.xlabel('Actual Longitude')\n",
    "plt.ylabel('Predicted Longitude')\n",
    "plt.show()\n"
   ]
  },
  {
   "attachments": {},
   "cell_type": "markdown",
   "metadata": {},
   "source": [
    "## Predicting new values"
   ]
  },
  {
   "cell_type": "code",
   "execution_count": 15,
   "metadata": {},
   "outputs": [],
   "source": [
    "def predictNewPoint(new_date, data):\n",
    "    new_date = pd.to_datetime(new_date)\n",
    "\n",
    "    new_month = new_date.month\n",
    "    new_day = new_date.day\n",
    "    new_dayofweek = new_date.dayofweek\n",
    "\n",
    "    new_date_df = {'month': new_month, 'day': new_day, 'dayofweek': new_dayofweek}\n",
    "    new_date_df = pd.DataFrame(new_date_df, index=[0])\n",
    "\n",
    "    new_date_df = scaler_x.transform(new_date_df)\n",
    "    new_date_df = new_date_df.reshape((new_date_df.shape[0], 1, new_date_df.shape[1]))\n",
    "\n",
    "    new_prediction = random_search.predict(new_date_df)\n",
    "    new_prediction = new_prediction.reshape(1,-1)\n",
    "    new_prediction = scaler_y.inverse_transform(new_prediction)\n",
    "\n",
    "    new_latitude = new_prediction[0][0]\n",
    "    new_longitude = new_prediction[0][1]\n",
    "\n",
    "    new_entry = {'Date': new_date, 'Latitude': new_latitude, 'Longitude': new_longitude, 'geometry': gpd.points_from_xy([new_longitude], [new_latitude])}\n",
    "\n",
    "    new_entry = gpd.GeoDataFrame(new_entry, index=[0])\n",
    "\n",
    "    max_index = data.index.max()\n",
    "    new_entry.index = [max_index + 1]\n",
    "\n",
    "    return new_entry"
   ]
  },
  {
   "cell_type": "code",
   "execution_count": 21,
   "metadata": {},
   "outputs": [
    {
     "name": "stdout",
     "output_type": "stream",
     "text": [
      "1/1 - 0s - 82ms/epoch - 82ms/step\n"
     ]
    }
   ],
   "source": [
    "new_entry = predictNewPoint('15-08-26', data)\n",
    "\n",
    "data = pd.concat([data, new_entry], axis=0)\n",
    "\n",
    "new_gdf, new_grid = createDataSets(data)"
   ]
  }
 ],
 "metadata": {
  "kernelspec": {
   "display_name": "Python 3",
   "language": "python",
   "name": "python3"
  },
  "language_info": {
   "codemirror_mode": {
    "name": "ipython",
    "version": 3
   },
   "file_extension": ".py",
   "mimetype": "text/x-python",
   "name": "python",
   "nbconvert_exporter": "python",
   "pygments_lexer": "ipython3",
   "version": "3.10.4 (tags/v3.10.4:9d38120, Mar 23 2022, 23:13:41) [MSC v.1929 64 bit (AMD64)]"
  },
  "orig_nbformat": 4,
  "vscode": {
   "interpreter": {
    "hash": "63963b3f4c440940f0b94a3100916033a226cb4f45979123153792d60aa56d6a"
   }
  }
 },
 "nbformat": 4,
 "nbformat_minor": 2
}
